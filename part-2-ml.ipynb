{
 "cells": [
  {
   "cell_type": "markdown",
   "source": [
    "# Some imports and functions to split the data"
   ],
   "metadata": {
    "collapsed": false
   }
  },
  {
   "cell_type": "code",
   "execution_count": 113,
   "metadata": {
    "collapsed": true,
    "ExecuteTime": {
     "end_time": "2023-06-17T12:01:11.761746Z",
     "start_time": "2023-06-17T12:01:11.727555Z"
    }
   },
   "outputs": [],
   "source": [
    "import os\n",
    "import numpy as np\n",
    "import pandas as pd\n",
    "from matplotlib import pyplot as plt\n",
    "from sklearn.model_selection import train_test_split\n",
    "from sklearn.metrics import confusion_matrix, classification_report\n",
    "from sklearn.metrics import ConfusionMatrixDisplay\n",
    "\n",
    "def load_spotify_data():\n",
    "    return pd.read_csv(os.path.join('data', '278_labelled_uri_train.csv'))\n",
    "\n",
    "def split_data(df):\n",
    "    spotify_train, spotify_test = train_test_split(df, test_size=0.2, random_state=42)\n",
    "    spotify_train_features = spotify_train.drop('labels', axis=1)\n",
    "    spotify_train_label = spotify_train['labels']\n",
    "    spotify_test_features = spotify_test.drop('labels', axis=1)\n",
    "    spotify_test_label = spotify_test['labels']\n",
    "    return spotify_train_features, spotify_train_label, spotify_test_features, spotify_test_label\n",
    "\n",
    "def rename_labels(df):\n",
    "    df.loc[df == 0] = '0 (sad)'\n",
    "    df.loc[df == 1] = '1 (happy)'\n",
    "    df.loc[df == 2] = '2 (energetic)'\n",
    "    df.loc[df == 3] = '3 (calm)'\n",
    "    return df\n",
    "\n",
    "def eval(model, X_train, X_test, y_train, y_test):\n",
    "    print('TEST')\n",
    "    y_test_pred = model.predict(X_test)\n",
    "    print(confusion_matrix(y_test, y_test_pred))\n",
    "    print(classification_report(y_test, y_test_pred))\n",
    "    ConfusionMatrixDisplay.from_predictions(y_test, y_test_pred)\n",
    "    plt.show()\n",
    "    print(\"-------------------------------------------------------\")\n",
    "    print('TRAIN')\n",
    "    y_train_pred = model.predict(X_train)\n",
    "    print(confusion_matrix(y_train, y_train_pred))\n",
    "    print(classification_report(y_train, y_train_pred))\n",
    "    print(\"-------------------------------------------------------\")\n",
    "\n",
    "def drop_columns(cols_to_drop, df_train, df_val):\n",
    "    df_train.drop(columns=cols_to_drop, inplace=True)\n",
    "    df_val.drop(columns=cols_to_drop, inplace=True)\n",
    "\n",
    "def correct_wrong_predicted_sets(model, X_train, y_train):\n",
    "    final_predictions = model.predict(X_train)\n",
    "    df = X_train.copy()\n",
    "    df[\"label\"] = y_train\n",
    "    df[\"label_predicted\"] = final_predictions\n",
    "    return df[df['label'] == df['label_predicted']], df[df['label'] != df['label_predicted']]\n",
    "\n",
    "def print_what_predicted_wrongly(label_name):\n",
    "    print(\"predicted wrong for\", label_name)\n",
    "    print(incorrect[incorrect['label'] == label_name]['label_predicted'].value_counts(normalize=True))\n",
    "\n",
    "def print_what_it_should_be(label_name):\n",
    "    print(label_name, \"was predicted, but should be\")\n",
    "    print(incorrect[incorrect['label_predicted'] == label_name]['label'].value_counts(normalize=True))"
   ]
  },
  {
   "cell_type": "markdown",
   "source": [
    "# Load the data and split it"
   ],
   "metadata": {
    "collapsed": false
   }
  },
  {
   "cell_type": "code",
   "execution_count": 103,
   "outputs": [
    {
     "name": "stdout",
     "output_type": "stream",
     "text": [
      "<class 'pandas.core.frame.DataFrame'>\n",
      "Index: 177880 entries, 199972 to 121958\n",
      "Data columns (total 11 columns):\n",
      " #   Column            Non-Null Count   Dtype  \n",
      "---  ------            --------------   -----  \n",
      " 0   duration (ms)     177880 non-null  float64\n",
      " 1   danceability      177880 non-null  float64\n",
      " 2   energy            177880 non-null  float64\n",
      " 3   loudness          177880 non-null  float64\n",
      " 4   speechiness       177880 non-null  float64\n",
      " 5   acousticness      177880 non-null  float64\n",
      " 6   instrumentalness  177880 non-null  float64\n",
      " 7   liveness          177880 non-null  float64\n",
      " 8   valence           177880 non-null  float64\n",
      " 9   tempo             177880 non-null  float64\n",
      " 10  spec_rate         177880 non-null  float64\n",
      "dtypes: float64(11)\n",
      "memory usage: 16.3 MB\n"
     ]
    }
   ],
   "source": [
    "X_train, y_train, X_test, y_test = split_data(load_spotify_data())\n",
    "rename_labels(y_train)\n",
    "rename_labels(y_test)\n",
    "\n",
    "# columns_to_drop = [\"uri\", \"Unnamed: 0\", \"Unnamed: 0.1\", \"Unnamed: 0.2\", \"duration (ms)\", \"speechiness\", \"liveness\", \"tempo\", \"spec_rate\"]\n",
    "\n",
    "# drop_columns([\"uri\", \"Unnamed: 0\", \"Unnamed: 0.1\", \"Unnamed: 0.2\", \"duration (ms)\", \"speechiness\", \"liveness\", \"tempo\", \"spec_rate\"], X_train, X_test)\n",
    "drop_columns([\"uri\", \"Unnamed: 0\", \"Unnamed: 0.1\", \"Unnamed: 0.2\"], X_train, X_test)\n",
    "\n",
    "X_train.info()"
   ],
   "metadata": {
    "collapsed": false,
    "ExecuteTime": {
     "end_time": "2023-06-17T11:58:37.331899Z",
     "start_time": "2023-06-17T11:58:36.502489Z"
    }
   }
  },
  {
   "cell_type": "markdown",
   "source": [
    "# First try with a SDGClassifier"
   ],
   "metadata": {
    "collapsed": false
   }
  },
  {
   "cell_type": "code",
   "execution_count": 104,
   "outputs": [
    {
     "name": "stdout",
     "output_type": "stream",
     "text": [
      "TEST\n",
      "[[ 9788  2105   394   851]\n",
      " [ 1916 14018   994   192]\n",
      " [  129  1899  5536    38]\n",
      " [  171    94    12  6333]]\n",
      "               precision    recall  f1-score   support\n",
      "\n",
      "      0 (sad)       0.82      0.75      0.78     13138\n",
      "    1 (happy)       0.77      0.82      0.80     17120\n",
      "2 (energetic)       0.80      0.73      0.76      7602\n",
      "     3 (calm)       0.85      0.96      0.90      6610\n",
      "\n",
      "     accuracy                           0.80     44470\n",
      "    macro avg       0.81      0.81      0.81     44470\n",
      " weighted avg       0.80      0.80      0.80     44470\n",
      "\n",
      "-------------------------------------------------------\n",
      "TRAIN\n",
      "[[39187  8393  1634  3234]\n",
      " [ 7085 55924  4302   694]\n",
      " [  535  7648 21778   114]\n",
      " [  681   350    54 26267]]\n",
      "               precision    recall  f1-score   support\n",
      "\n",
      "      0 (sad)       0.83      0.75      0.78     52448\n",
      "    1 (happy)       0.77      0.82      0.80     68005\n",
      "2 (energetic)       0.78      0.72      0.75     30075\n",
      "     3 (calm)       0.87      0.96      0.91     27352\n",
      "\n",
      "     accuracy                           0.80    177880\n",
      "    macro avg       0.81      0.81      0.81    177880\n",
      " weighted avg       0.80      0.80      0.80    177880\n",
      "\n"
     ]
    }
   ],
   "source": [
    "from sklearn.linear_model import SGDClassifier\n",
    "from sklearn.preprocessing import StandardScaler\n",
    "from sklearn.pipeline import make_pipeline\n",
    "\n",
    "clf = make_pipeline(StandardScaler(), SGDClassifier(max_iter=1000, tol=0.01))\n",
    "\n",
    "clf.fit(X_train, y_train)\n",
    "\n",
    "eval(clf, X_train, X_test, y_train, y_test)"
   ],
   "metadata": {
    "collapsed": false,
    "ExecuteTime": {
     "end_time": "2023-06-17T11:58:44.510942Z",
     "start_time": "2023-06-17T11:58:37.334527Z"
    }
   }
  },
  {
   "cell_type": "code",
   "execution_count": 105,
   "outputs": [
    {
     "data": {
      "text/plain": "        duration (ms)  danceability  energy  loudness  speechiness  \\\n215967       275400.0        0.4880  0.8430    -3.393       0.0367   \n127308       243413.0        0.5620  0.6710    -7.210       0.0269   \n130693       268000.0        0.6260  0.5300    -6.932       0.0271   \n19618       1030907.0        0.0695  0.0108   -26.729       0.0429   \n67737        229440.0        0.5840  0.8500    -5.444       0.0422   \n...               ...           ...     ...       ...          ...   \n65725        118650.0        0.8680  0.6110   -10.337       0.1210   \n2747         262347.0        0.2670  0.8540    -3.605       0.0933   \n122537       242320.0        0.0946  0.5750   -11.107       0.0502   \n84478        235569.0        0.6340  0.5930    -4.154       0.0458   \n67221        233987.0        0.7200  0.4660   -14.793       0.0500   \n\n        acousticness  instrumentalness  liveness  valence    tempo  \\\n215967      0.324000          0.022600    0.1070   0.6080   74.974   \n127308      0.018800          0.003780    0.0947   0.5950  106.002   \n130693      0.324000          0.000000    0.1190   0.2990  136.090   \n19618       0.965000          0.760000    0.0777   0.0377   75.279   \n67737       0.000956          0.000049    0.3110   0.7900  130.018   \n...              ...               ...       ...      ...      ...   \n65725       0.026600          0.910000    0.1160   0.0913   99.987   \n2747        0.371000          0.000000    0.0836   0.2630   80.158   \n122537      0.093600          0.417000    0.1020   0.0710   73.821   \n84478       0.549000          0.000017    0.1390   0.1180   93.955   \n67221       0.582000          0.162000    0.1120   0.9090   87.270   \n\n           spec_rate          label label_predicted  \n215967  1.332607e-07        0 (sad)       1 (happy)  \n127308  1.105118e-07        0 (sad)       1 (happy)  \n130693  1.011194e-07      1 (happy)         0 (sad)  \n19618   4.161384e-08       3 (calm)         0 (sad)  \n67737   1.839261e-07  2 (energetic)       1 (happy)  \n...              ...            ...             ...  \n65725   1.019806e-06  2 (energetic)       1 (happy)  \n2747    3.556359e-07  2 (energetic)         0 (sad)  \n122537  2.071641e-07        0 (sad)   2 (energetic)  \n84478   1.944229e-07      1 (happy)         0 (sad)  \n67221   2.136871e-07        0 (sad)       1 (happy)  \n\n[34724 rows x 13 columns]",
      "text/html": "<div>\n<style scoped>\n    .dataframe tbody tr th:only-of-type {\n        vertical-align: middle;\n    }\n\n    .dataframe tbody tr th {\n        vertical-align: top;\n    }\n\n    .dataframe thead th {\n        text-align: right;\n    }\n</style>\n<table border=\"1\" class=\"dataframe\">\n  <thead>\n    <tr style=\"text-align: right;\">\n      <th></th>\n      <th>duration (ms)</th>\n      <th>danceability</th>\n      <th>energy</th>\n      <th>loudness</th>\n      <th>speechiness</th>\n      <th>acousticness</th>\n      <th>instrumentalness</th>\n      <th>liveness</th>\n      <th>valence</th>\n      <th>tempo</th>\n      <th>spec_rate</th>\n      <th>label</th>\n      <th>label_predicted</th>\n    </tr>\n  </thead>\n  <tbody>\n    <tr>\n      <th>215967</th>\n      <td>275400.0</td>\n      <td>0.4880</td>\n      <td>0.8430</td>\n      <td>-3.393</td>\n      <td>0.0367</td>\n      <td>0.324000</td>\n      <td>0.022600</td>\n      <td>0.1070</td>\n      <td>0.6080</td>\n      <td>74.974</td>\n      <td>1.332607e-07</td>\n      <td>0 (sad)</td>\n      <td>1 (happy)</td>\n    </tr>\n    <tr>\n      <th>127308</th>\n      <td>243413.0</td>\n      <td>0.5620</td>\n      <td>0.6710</td>\n      <td>-7.210</td>\n      <td>0.0269</td>\n      <td>0.018800</td>\n      <td>0.003780</td>\n      <td>0.0947</td>\n      <td>0.5950</td>\n      <td>106.002</td>\n      <td>1.105118e-07</td>\n      <td>0 (sad)</td>\n      <td>1 (happy)</td>\n    </tr>\n    <tr>\n      <th>130693</th>\n      <td>268000.0</td>\n      <td>0.6260</td>\n      <td>0.5300</td>\n      <td>-6.932</td>\n      <td>0.0271</td>\n      <td>0.324000</td>\n      <td>0.000000</td>\n      <td>0.1190</td>\n      <td>0.2990</td>\n      <td>136.090</td>\n      <td>1.011194e-07</td>\n      <td>1 (happy)</td>\n      <td>0 (sad)</td>\n    </tr>\n    <tr>\n      <th>19618</th>\n      <td>1030907.0</td>\n      <td>0.0695</td>\n      <td>0.0108</td>\n      <td>-26.729</td>\n      <td>0.0429</td>\n      <td>0.965000</td>\n      <td>0.760000</td>\n      <td>0.0777</td>\n      <td>0.0377</td>\n      <td>75.279</td>\n      <td>4.161384e-08</td>\n      <td>3 (calm)</td>\n      <td>0 (sad)</td>\n    </tr>\n    <tr>\n      <th>67737</th>\n      <td>229440.0</td>\n      <td>0.5840</td>\n      <td>0.8500</td>\n      <td>-5.444</td>\n      <td>0.0422</td>\n      <td>0.000956</td>\n      <td>0.000049</td>\n      <td>0.3110</td>\n      <td>0.7900</td>\n      <td>130.018</td>\n      <td>1.839261e-07</td>\n      <td>2 (energetic)</td>\n      <td>1 (happy)</td>\n    </tr>\n    <tr>\n      <th>...</th>\n      <td>...</td>\n      <td>...</td>\n      <td>...</td>\n      <td>...</td>\n      <td>...</td>\n      <td>...</td>\n      <td>...</td>\n      <td>...</td>\n      <td>...</td>\n      <td>...</td>\n      <td>...</td>\n      <td>...</td>\n      <td>...</td>\n    </tr>\n    <tr>\n      <th>65725</th>\n      <td>118650.0</td>\n      <td>0.8680</td>\n      <td>0.6110</td>\n      <td>-10.337</td>\n      <td>0.1210</td>\n      <td>0.026600</td>\n      <td>0.910000</td>\n      <td>0.1160</td>\n      <td>0.0913</td>\n      <td>99.987</td>\n      <td>1.019806e-06</td>\n      <td>2 (energetic)</td>\n      <td>1 (happy)</td>\n    </tr>\n    <tr>\n      <th>2747</th>\n      <td>262347.0</td>\n      <td>0.2670</td>\n      <td>0.8540</td>\n      <td>-3.605</td>\n      <td>0.0933</td>\n      <td>0.371000</td>\n      <td>0.000000</td>\n      <td>0.0836</td>\n      <td>0.2630</td>\n      <td>80.158</td>\n      <td>3.556359e-07</td>\n      <td>2 (energetic)</td>\n      <td>0 (sad)</td>\n    </tr>\n    <tr>\n      <th>122537</th>\n      <td>242320.0</td>\n      <td>0.0946</td>\n      <td>0.5750</td>\n      <td>-11.107</td>\n      <td>0.0502</td>\n      <td>0.093600</td>\n      <td>0.417000</td>\n      <td>0.1020</td>\n      <td>0.0710</td>\n      <td>73.821</td>\n      <td>2.071641e-07</td>\n      <td>0 (sad)</td>\n      <td>2 (energetic)</td>\n    </tr>\n    <tr>\n      <th>84478</th>\n      <td>235569.0</td>\n      <td>0.6340</td>\n      <td>0.5930</td>\n      <td>-4.154</td>\n      <td>0.0458</td>\n      <td>0.549000</td>\n      <td>0.000017</td>\n      <td>0.1390</td>\n      <td>0.1180</td>\n      <td>93.955</td>\n      <td>1.944229e-07</td>\n      <td>1 (happy)</td>\n      <td>0 (sad)</td>\n    </tr>\n    <tr>\n      <th>67221</th>\n      <td>233987.0</td>\n      <td>0.7200</td>\n      <td>0.4660</td>\n      <td>-14.793</td>\n      <td>0.0500</td>\n      <td>0.582000</td>\n      <td>0.162000</td>\n      <td>0.1120</td>\n      <td>0.9090</td>\n      <td>87.270</td>\n      <td>2.136871e-07</td>\n      <td>0 (sad)</td>\n      <td>1 (happy)</td>\n    </tr>\n  </tbody>\n</table>\n<p>34724 rows × 13 columns</p>\n</div>"
     },
     "execution_count": 105,
     "metadata": {},
     "output_type": "execute_result"
    }
   ],
   "source": [
    "correct, incorrect = correct_wrong_predicted_sets(clf, X_train, y_train)\n",
    "incorrect"
   ],
   "metadata": {
    "collapsed": false,
    "ExecuteTime": {
     "end_time": "2023-06-17T11:58:44.668987Z",
     "start_time": "2023-06-17T11:58:44.511884Z"
    }
   }
  },
  {
   "cell_type": "markdown",
   "source": [
    "# Incorrect predictions: Show what should have been predicted instead"
   ],
   "metadata": {
    "collapsed": false
   }
  },
  {
   "cell_type": "code",
   "execution_count": 106,
   "outputs": [
    {
     "data": {
      "text/plain": "label\n0 (sad)          0.381897\n1 (happy)        0.347915\n2 (energetic)    0.238941\n3 (calm)         0.031246\nName: proportion, dtype: float64"
     },
     "execution_count": 106,
     "metadata": {},
     "output_type": "execute_result"
    }
   ],
   "source": [
    "correct, incorrect = correct_wrong_predicted_sets(clf, X_train, y_train)\n",
    "\n",
    "incorrect['label'].value_counts(normalize=True)"
   ],
   "metadata": {
    "collapsed": false,
    "ExecuteTime": {
     "end_time": "2023-06-17T11:58:44.873596Z",
     "start_time": "2023-06-17T11:58:44.669734Z"
    }
   }
  },
  {
   "cell_type": "markdown",
   "source": [
    "# Incorrect predictions: Show what was predicted incorrectly"
   ],
   "metadata": {
    "collapsed": false
   }
  },
  {
   "cell_type": "code",
   "execution_count": 107,
   "outputs": [
    {
     "data": {
      "text/plain": "label_predicted\n1 (happy)        0.472037\n0 (sad)          0.239057\n2 (energetic)    0.172503\n3 (calm)         0.116404\nName: proportion, dtype: float64"
     },
     "execution_count": 107,
     "metadata": {},
     "output_type": "execute_result"
    }
   ],
   "source": [
    "correct, incorrect = correct_wrong_predicted_sets(clf, X_train, y_train)\n",
    "\n",
    "incorrect['label_predicted'].value_counts(normalize=True)"
   ],
   "metadata": {
    "collapsed": false,
    "ExecuteTime": {
     "end_time": "2023-06-17T11:58:45.059983Z",
     "start_time": "2023-06-17T11:58:44.849531Z"
    }
   }
  },
  {
   "cell_type": "markdown",
   "source": [
    "# Show it a bit more detailed"
   ],
   "metadata": {
    "collapsed": false
   }
  },
  {
   "cell_type": "code",
   "execution_count": 108,
   "outputs": [
    {
     "name": "stdout",
     "output_type": "stream",
     "text": [
      "--------------------\n",
      "What is the actual label, but what was predicted instead:\n",
      "predicted wrong for 0 (sad)\n",
      "label_predicted\n",
      "1 (happy)        0.632909\n",
      "3 (calm)         0.243873\n",
      "2 (energetic)    0.123218\n",
      "Name: proportion, dtype: float64\n",
      "predicted wrong for 1 (happy)\n",
      "label_predicted\n",
      "0 (sad)          0.586458\n",
      "2 (energetic)    0.356096\n",
      "3 (calm)         0.057446\n",
      "Name: proportion, dtype: float64\n",
      "predicted wrong for 2 (energetic)\n",
      "label_predicted\n",
      "1 (happy)    0.921779\n",
      "0 (sad)      0.064481\n",
      "3 (calm)     0.013740\n",
      "Name: proportion, dtype: float64\n",
      "predicted wrong for 3 (calm)\n",
      "label_predicted\n",
      "0 (sad)          0.627650\n",
      "1 (happy)        0.322581\n",
      "2 (energetic)    0.049770\n",
      "Name: proportion, dtype: float64\n",
      "--------------------\n",
      "What was predicted, but what it should be:\n",
      "0 (sad) was predicted, but should be\n",
      "label\n",
      "1 (happy)        0.853512\n",
      "3 (calm)         0.082038\n",
      "2 (energetic)    0.064450\n",
      "Name: proportion, dtype: float64\n",
      "1 (happy) was predicted, but should be\n",
      "label\n",
      "0 (sad)          0.512049\n",
      "2 (energetic)    0.466598\n",
      "3 (calm)         0.021353\n",
      "Name: proportion, dtype: float64\n",
      "2 (energetic) was predicted, but should be\n",
      "label\n",
      "1 (happy)    0.718197\n",
      "0 (sad)      0.272788\n",
      "3 (calm)     0.009015\n",
      "Name: proportion, dtype: float64\n",
      "3 (calm) was predicted, but should be\n",
      "label\n",
      "0 (sad)          0.800099\n",
      "1 (happy)        0.171697\n",
      "2 (energetic)    0.028204\n",
      "Name: proportion, dtype: float64\n"
     ]
    }
   ],
   "source": [
    "correct, incorrect = correct_wrong_predicted_sets(clf, X_train, y_train)\n",
    "\n",
    "print(\"--------------------\")\n",
    "print(\"What is the actual label, but what was predicted instead:\")\n",
    "print_what_predicted_wrongly('0 (sad)')\n",
    "print_what_predicted_wrongly('1 (happy)')\n",
    "print_what_predicted_wrongly('2 (energetic)')\n",
    "print_what_predicted_wrongly('3 (calm)')\n",
    "\n",
    "\n",
    "print(\"--------------------\")\n",
    "print(\"What was predicted, but what it should be:\")\n",
    "print_what_it_should_be('0 (sad)')\n",
    "print_what_it_should_be('1 (happy)')\n",
    "print_what_it_should_be('2 (energetic)')\n",
    "print_what_it_should_be('3 (calm)')"
   ],
   "metadata": {
    "collapsed": false,
    "ExecuteTime": {
     "end_time": "2023-06-17T11:58:46.886389Z",
     "start_time": "2023-06-17T11:58:46.680199Z"
    }
   }
  },
  {
   "cell_type": "markdown",
   "source": [
    "# Playing around with the Kernel approximation"
   ],
   "metadata": {
    "collapsed": false
   }
  },
  {
   "cell_type": "code",
   "execution_count": 109,
   "outputs": [
    {
     "name": "stdout",
     "output_type": "stream",
     "text": [
      "TEST\n",
      "[[ 7880  3978   143  1137]\n",
      " [ 2870 13162   216   872]\n",
      " [ 1544  4629   877   552]\n",
      " [ 1469  1409    46  3686]]\n",
      "               precision    recall  f1-score   support\n",
      "\n",
      "      0 (sad)       0.57      0.60      0.59     13138\n",
      "    1 (happy)       0.57      0.77      0.65     17120\n",
      "2 (energetic)       0.68      0.12      0.20      7602\n",
      "     3 (calm)       0.59      0.56      0.57      6610\n",
      "\n",
      "     accuracy                           0.58     44470\n",
      "    macro avg       0.60      0.51      0.50     44470\n",
      " weighted avg       0.59      0.58      0.54     44470\n",
      "\n",
      "-------------------------------------------------------\n",
      "TRAIN\n",
      "[[31676 15732   641  4399]\n",
      " [11033 52640   986  3346]\n",
      " [ 6097 18445  3384  2149]\n",
      " [ 6044  5597   232 15479]]\n",
      "               precision    recall  f1-score   support\n",
      "\n",
      "      0 (sad)       0.58      0.60      0.59     52448\n",
      "    1 (happy)       0.57      0.77      0.66     68005\n",
      "2 (energetic)       0.65      0.11      0.19     30075\n",
      "     3 (calm)       0.61      0.57      0.59     27352\n",
      "\n",
      "     accuracy                           0.58    177880\n",
      "    macro avg       0.60      0.51      0.51    177880\n",
      " weighted avg       0.59      0.58      0.55    177880\n",
      "\n"
     ]
    }
   ],
   "source": [
    "from sklearn.kernel_approximation import RBFSampler\n",
    "from sklearn.linear_model import SGDClassifier\n",
    "# rbf_feature = RBFSampler(gamma=1, random_state=1)\n",
    "# X_features = rbf_feature.fit_transform(X_train)\n",
    "\n",
    "clf = make_pipeline(StandardScaler(), RBFSampler(gamma=1, random_state=42), SGDClassifier(max_iter=1000, tol=0.01))\n",
    "\n",
    "clf.fit(X_train, y_train)\n",
    "\n",
    "eval(clf, X_train, X_test, y_train, y_test)"
   ],
   "metadata": {
    "collapsed": false,
    "ExecuteTime": {
     "end_time": "2023-06-17T11:58:57.014229Z",
     "start_time": "2023-06-17T11:58:47.809965Z"
    }
   }
  },
  {
   "cell_type": "markdown",
   "source": [
    "# Random forest"
   ],
   "metadata": {
    "collapsed": false
   }
  },
  {
   "cell_type": "code",
   "execution_count": 114,
   "outputs": [
    {
     "name": "stdout",
     "output_type": "stream",
     "text": [
      "TEST\n",
      "[[12432   496    74   136]\n",
      " [  424 16239   437    20]\n",
      " [   81   733  6785     3]\n",
      " [  131    44     3  6432]]\n",
      "               precision    recall  f1-score   support\n",
      "\n",
      "      0 (sad)       0.95      0.95      0.95     13138\n",
      "    1 (happy)       0.93      0.95      0.94     17120\n",
      "2 (energetic)       0.93      0.89      0.91      7602\n",
      "     3 (calm)       0.98      0.97      0.97      6610\n",
      "\n",
      "     accuracy                           0.94     44470\n",
      "    macro avg       0.95      0.94      0.94     44470\n",
      " weighted avg       0.94      0.94      0.94     44470\n",
      "\n"
     ]
    },
    {
     "data": {
      "text/plain": "<Figure size 640x480 with 2 Axes>",
      "image/png": "[encoded data removed]"
     },
     "metadata": {},
     "output_type": "display_data"
    },
    {
     "name": "stdout",
     "output_type": "stream",
     "text": [
      "-------------------------------------------------------\n",
      "TRAIN\n",
      "[[52448     0     0     0]\n",
      " [    0 68005     0     0]\n",
      " [    0     1 30074     0]\n",
      " [    0     0     0 27352]]\n",
      "               precision    recall  f1-score   support\n",
      "\n",
      "      0 (sad)       1.00      1.00      1.00     52448\n",
      "    1 (happy)       1.00      1.00      1.00     68005\n",
      "2 (energetic)       1.00      1.00      1.00     30075\n",
      "     3 (calm)       1.00      1.00      1.00     27352\n",
      "\n",
      "     accuracy                           1.00    177880\n",
      "    macro avg       1.00      1.00      1.00    177880\n",
      " weighted avg       1.00      1.00      1.00    177880\n",
      "\n",
      "-------------------------------------------------------\n"
     ]
    }
   ],
   "source": [
    "from sklearn.ensemble import RandomForestClassifier\n",
    "\n",
    "clf = make_pipeline(StandardScaler(), RandomForestClassifier(random_state=42))\n",
    "\n",
    "clf.fit(X_train, y_train)\n",
    "\n",
    "eval(clf, X_train, X_test, y_train, y_test)"
   ],
   "metadata": {
    "collapsed": false,
    "ExecuteTime": {
     "end_time": "2023-06-17T12:02:27.335833Z",
     "start_time": "2023-06-17T12:01:15.939620Z"
    }
   }
  },
  {
   "cell_type": "markdown",
   "source": [
    "# Random forest with GridSearchCV / Hyperparameter"
   ],
   "metadata": {
    "collapsed": false
   }
  },
  {
   "cell_type": "code",
   "execution_count": null,
   "outputs": [
    {
     "name": "stdout",
     "output_type": "stream",
     "text": [
      "Fitting 3 folds for each of 3 candidates, totalling 9 fits\n"
     ]
    }
   ],
   "source": [
    "from sklearn.model_selection import GridSearchCV\n",
    "\n",
    "param_grid = {\n",
    "    'bootstrap': [True],\n",
    "    'max_depth': [80],\n",
    "    'max_features': [2, 3, 4],\n",
    "    'min_samples_leaf': [3],\n",
    "    'min_samples_split': [8],\n",
    "    'n_estimators': [100]\n",
    "}\n",
    "\n",
    "# Instantiate the grid search model\n",
    "grid_search = GridSearchCV(estimator = RandomForestClassifier(random_state=42), param_grid = param_grid, cv = 3, n_jobs = -1, verbose = 10)\n",
    "\n",
    "grid_search.fit(X_train, y_train)\n",
    "grid_search.best_params_"
   ],
   "metadata": {
    "collapsed": false,
    "is_executing": true,
    "ExecuteTime": {
     "start_time": "2023-06-17T12:19:41.183493Z"
    }
   }
  },
  {
   "cell_type": "code",
   "execution_count": null,
   "outputs": [],
   "source": [],
   "metadata": {
    "collapsed": false
   }
  }
 ],
 "metadata": {
  "kernelspec": {
   "display_name": "Python 3",
   "language": "python",
   "name": "python3"
  },
  "language_info": {
   "codemirror_mode": {
    "name": "ipython",
    "version": 2
   },
   "file_extension": ".py",
   "mimetype": "text/x-python",
   "name": "python",
   "nbconvert_exporter": "python",
   "pygments_lexer": "ipython2",
   "version": "2.7.6"
  }
 },
 "nbformat": 4,
 "nbformat_minor": 0
}
