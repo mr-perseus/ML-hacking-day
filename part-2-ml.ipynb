{
 "cells": [
  {
   "cell_type": "markdown",
   "source": [
    "# Some imports and functions to split the data"
   ],
   "metadata": {
    "collapsed": false
   }
  },
  {
   "cell_type": "code",
   "execution_count": 60,
   "metadata": {
    "collapsed": true,
    "ExecuteTime": {
     "end_time": "2023-06-17T10:24:15.542197Z",
     "start_time": "2023-06-17T10:24:15.522744Z"
    }
   },
   "outputs": [],
   "source": [
    "import os\n",
    "import numpy as np\n",
    "import pandas as pd\n",
    "from sklearn.model_selection import train_test_split\n",
    "from sklearn.metrics import confusion_matrix, classification_report\n",
    "\n",
    "def load_spotify_data():\n",
    "    return pd.read_csv(os.path.join('data', '278_labelled_uri_train.csv'))\n",
    "\n",
    "def split_data(df):\n",
    "    spotify_train, spotify_test = train_test_split(df, test_size=0.2, random_state=42)\n",
    "    spotify_train_features = spotify_train.drop('labels', axis=1)\n",
    "    spotify_train_label = spotify_train['labels']\n",
    "    spotify_test_features = spotify_test.drop('labels', axis=1)\n",
    "    spotify_test_label = spotify_test['labels']\n",
    "    return spotify_train_features, spotify_train_label, spotify_test_features, spotify_test_label\n",
    "\n",
    "def rename_labels(df):\n",
    "    df.loc[df == 0] = '0 (sad)'\n",
    "    df.loc[df == 1] = '1 (happy)'\n",
    "    df.loc[df == 2] = '2 (energetic)'\n",
    "    df.loc[df == 3] = '3 (calm)'\n",
    "    return df\n",
    "\n",
    "def eval(model, X_train, X_val, y_train=y_train, y_val=y_val):\n",
    "    print('TEST')\n",
    "    y_val_pred = model.predict(X_val)\n",
    "    print(confusion_matrix(y_val, y_val_pred))\n",
    "    print(classification_report(y_val, y_val_pred))\n",
    "    print(\"-------------------------------------------------------\")\n",
    "    print('TRAIN')\n",
    "    y_train_pred = model.predict(X_train)\n",
    "    print(confusion_matrix(y_train, y_train_pred))\n",
    "    print(classification_report(y_train, y_train_pred))\n",
    "\n",
    "def drop_columns(cols_to_drop, df_train, df_val):\n",
    "    df_train.drop(columns=cols_to_drop, inplace=True)\n",
    "    df_val.drop(columns=cols_to_drop, inplace=True)\n"
   ]
  },
  {
   "cell_type": "markdown",
   "source": [
    "# Load the data and split it"
   ],
   "metadata": {
    "collapsed": false
   }
  },
  {
   "cell_type": "code",
   "execution_count": 64,
   "outputs": [],
   "source": [
    "X_train, y_train, X_val, y_val = split_data(load_spotify_data())\n",
    "rename_labels(y_train)\n",
    "rename_labels(y_val)\n",
    "\n",
    "# columns_to_drop = [\"uri\", \"Unnamed: 0\", \"Unnamed: 0.1\", \"Unnamed: 0.2\", \"duration (ms)\", \"speechiness\", \"liveness\", \"tempo\", \"spec_rate\"]\n",
    "\n",
    "drop_columns([\"uri\", \"Unnamed: 0\", \"Unnamed: 0.1\", \"Unnamed: 0.2\", \"duration (ms)\", \"speechiness\", \"liveness\", \"tempo\", \"spec_rate\"], X_train, X_val)\n",
    "# drop_columns([\"uri\", \"Unnamed: 0\", \"Unnamed: 0.1\", \"Unnamed: 0.2\"], X_train, X_val)\n",
    "\n"
   ],
   "metadata": {
    "collapsed": false,
    "ExecuteTime": {
     "end_time": "2023-06-17T10:25:34.147770Z",
     "start_time": "2023-06-17T10:25:32.863861Z"
    }
   }
  },
  {
   "cell_type": "code",
   "execution_count": 64,
   "outputs": [],
   "source": [],
   "metadata": {
    "collapsed": false,
    "ExecuteTime": {
     "end_time": "2023-06-17T10:25:34.186754Z",
     "start_time": "2023-06-17T10:25:34.152629Z"
    }
   }
  },
  {
   "cell_type": "markdown",
   "source": [
    "# First try with a SDGClassifier"
   ],
   "metadata": {
    "collapsed": false
   }
  },
  {
   "cell_type": "code",
   "execution_count": 65,
   "outputs": [
    {
     "name": "stdout",
     "output_type": "stream",
     "text": [
      "TEST\n",
      "[[ 9188  2353   563  1034]\n",
      " [ 1642 14390   892   196]\n",
      " [  134  1988  5450    30]\n",
      " [  109    64    15  6422]]\n",
      "               precision    recall  f1-score   support\n",
      "\n",
      "      0 (sad)       0.83      0.70      0.76     13138\n",
      "    1 (happy)       0.77      0.84      0.80     17120\n",
      "2 (energetic)       0.79      0.72      0.75      7602\n",
      "     3 (calm)       0.84      0.97      0.90      6610\n",
      "\n",
      "     accuracy                           0.80     44470\n",
      "    macro avg       0.80      0.81      0.80     44470\n",
      " weighted avg       0.80      0.80      0.79     44470\n",
      "\n",
      "-------------------------------------------------------\n",
      "TRAIN\n",
      "[[36800  9390  2260  3998]\n",
      " [ 6155 57367  3720   763]\n",
      " [  534  8068 21385    88]\n",
      " [  398   257    66 26631]]\n",
      "               precision    recall  f1-score   support\n",
      "\n",
      "      0 (sad)       0.84      0.70      0.76     52448\n",
      "    1 (happy)       0.76      0.84      0.80     68005\n",
      "2 (energetic)       0.78      0.71      0.74     30075\n",
      "     3 (calm)       0.85      0.97      0.91     27352\n",
      "\n",
      "     accuracy                           0.80    177880\n",
      "    macro avg       0.81      0.81      0.80    177880\n",
      " weighted avg       0.80      0.80      0.80    177880\n",
      "\n"
     ]
    }
   ],
   "source": [
    "from sklearn.linear_model import SGDClassifier\n",
    "from sklearn.preprocessing import StandardScaler\n",
    "from sklearn.pipeline import make_pipeline\n",
    "\n",
    "clf = make_pipeline(StandardScaler(), SGDClassifier(max_iter=1000, tol=0.01))\n",
    "\n",
    "clf.fit(X_train, y_train)\n",
    "\n",
    "eval(clf, X_train, X_val, y_train, y_val)"
   ],
   "metadata": {
    "collapsed": false,
    "ExecuteTime": {
     "end_time": "2023-06-17T10:25:42.460053Z",
     "start_time": "2023-06-17T10:25:35.794925Z"
    }
   }
  },
  {
   "cell_type": "code",
   "execution_count": null,
   "outputs": [],
   "source": [],
   "metadata": {
    "collapsed": false
   }
  }
 ],
 "metadata": {
  "kernelspec": {
   "display_name": "Python 3",
   "language": "python",
   "name": "python3"
  },
  "language_info": {
   "codemirror_mode": {
    "name": "ipython",
    "version": 2
   },
   "file_extension": ".py",
   "mimetype": "text/x-python",
   "name": "python",
   "nbconvert_exporter": "python",
   "pygments_lexer": "ipython2",
   "version": "2.7.6"
  }
 },
 "nbformat": 4,
 "nbformat_minor": 0
}
